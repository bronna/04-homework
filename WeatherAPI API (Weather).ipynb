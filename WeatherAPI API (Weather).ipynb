{
 "cells": [
  {
   "cell_type": "markdown",
   "metadata": {},
   "source": [
    "# WeatherAPI (Weather)\n",
    "\n",
    "Answer the following questions using [WeatherAPI](http://www.weatherapi.com/). I've added three cells for most questions but you're free to use more or less! Hold `Shift` and hit `Enter` to run a cell, and use the `+` on the top left to add a new cell to a notebook.\n",
    "\n",
    "Be sure to take advantage of both the documentation and the API Explorer!\n",
    "\n",
    "## 0) Import any libraries you might need\n",
    "\n",
    "- *Tip: We're going to be downloading things from the internet, so we probably need `requests`.*\n",
    "- *Tip: Remember you only need to import requests once!*"
   ]
  },
  {
   "cell_type": "code",
   "execution_count": 3,
   "metadata": {},
   "outputs": [],
   "source": [
    "import requests"
   ]
  },
  {
   "cell_type": "code",
   "execution_count": 30,
   "metadata": {},
   "outputs": [],
   "source": [
    "import os\n",
    "from dotenv import load_dotenv\n",
    "load_dotenv()\n",
    "\n",
    "API_KEY = os.getenv('WEATHER_API_KEY')"
   ]
  },
  {
   "cell_type": "markdown",
   "metadata": {
    "collapsed": true
   },
   "source": [
    "## 1) Make a request to the Weather API for where you were born (or lived, or want to visit!).\n",
    "\n",
    "- *Tip: This sure seems familiar.*"
   ]
  },
  {
   "cell_type": "code",
   "execution_count": 31,
   "metadata": {},
   "outputs": [],
   "source": [
    "url_santacruz = f\"http://api.weatherapi.com/v1/current.json?key={API_KEY}&q=95064\""
   ]
  },
  {
   "cell_type": "code",
   "execution_count": 32,
   "metadata": {},
   "outputs": [],
   "source": [
    "response_santacruz = requests.get(url_santacruz)"
   ]
  },
  {
   "cell_type": "code",
   "execution_count": 33,
   "metadata": {},
   "outputs": [],
   "source": [
    "data_santacruz = response_santacruz.json()"
   ]
  },
  {
   "cell_type": "markdown",
   "metadata": {},
   "source": [
    "## 2) What's the current wind speed, and how much warmer does it feel than it actually is?\n",
    "\n",
    "- *Tip: You can do this by browsing through the dictionaries, but it might be easier to read the documentation*\n",
    "- *Tip: For the second half: it **is** one temperature, and it **feels** a different temperature. Calculate the difference. Same as we did last time!*"
   ]
  },
  {
   "cell_type": "code",
   "execution_count": 34,
   "metadata": {},
   "outputs": [],
   "source": [
    "wind_speed_current = data_santacruz[\"current\"][\"wind_mph\"]"
   ]
  },
  {
   "cell_type": "code",
   "execution_count": 35,
   "metadata": {},
   "outputs": [
    {
     "data": {
      "text/plain": [
       "'The current wind speed is 10.5 mph'"
      ]
     },
     "execution_count": 35,
     "metadata": {},
     "output_type": "execute_result"
    }
   ],
   "source": [
    "f'The current wind speed is {wind_speed_current} mph'"
   ]
  },
  {
   "cell_type": "code",
   "execution_count": 36,
   "metadata": {},
   "outputs": [],
   "source": [
    "temp_current = data_santacruz[\"current\"][\"temp_f\"]"
   ]
  },
  {
   "cell_type": "code",
   "execution_count": 37,
   "metadata": {},
   "outputs": [],
   "source": [
    "temp_feelslike = data_santacruz[\"current\"][\"feelslike_f\"]"
   ]
  },
  {
   "cell_type": "code",
   "execution_count": 38,
   "metadata": {},
   "outputs": [
    {
     "name": "stdout",
     "output_type": "stream",
     "text": [
      "It feels 0.0 degrees warmer\n"
     ]
    }
   ],
   "source": [
    "if temp_feelslike < temp_current:\n",
    "    print(f'It feels {temp_current - temp_feelslike:.1f} degrees colder')\n",
    "else:\n",
    "    print(f'It feels {temp_feelslike - temp_current:.1f} degrees warmer')"
   ]
  },
  {
   "cell_type": "markdown",
   "metadata": {},
   "source": [
    "## 3) What is the API endpoint for moon-related information? For the place you decided on above, how much of the moon will be visible on next Thursday?\n",
    "\n",
    "- *Tip: Check the documentation!*\n",
    "- *Tip: If you aren't sure what something means, ask in Slack*"
   ]
  },
  {
   "cell_type": "code",
   "execution_count": 39,
   "metadata": {},
   "outputs": [],
   "source": [
    "url_moon = f\"http://api.weatherapi.com/v1/astronomy.json?key={API_KEY}&q=95064\""
   ]
  },
  {
   "cell_type": "code",
   "execution_count": 40,
   "metadata": {},
   "outputs": [],
   "source": [
    "url_moon_forecast = f\"http://api.weatherapi.com/v1/astronomy.json?key={API_KEY}&q=95064&dt=2021-06-24\""
   ]
  },
  {
   "cell_type": "code",
   "execution_count": 41,
   "metadata": {},
   "outputs": [],
   "source": [
    "response_moon = requests.get(url_moon_forecast)"
   ]
  },
  {
   "cell_type": "code",
   "execution_count": 42,
   "metadata": {},
   "outputs": [],
   "source": [
    "data_moon = response_moon.json()"
   ]
  },
  {
   "cell_type": "code",
   "execution_count": 43,
   "metadata": {},
   "outputs": [],
   "source": [
    "moon_phase = data_moon['astronomy'][\"astro\"][\"moon_phase\"]"
   ]
  },
  {
   "cell_type": "code",
   "execution_count": 44,
   "metadata": {},
   "outputs": [
    {
     "data": {
      "text/plain": [
       "\"Next Thursday's visibility will be: Full Moon\""
      ]
     },
     "execution_count": 44,
     "metadata": {},
     "output_type": "execute_result"
    }
   ],
   "source": [
    "f'Next Thursday\\'s visibility will be: {moon_phase}'"
   ]
  },
  {
   "cell_type": "markdown",
   "metadata": {},
   "source": [
    "## 4) What's the difference between the high and low temperatures for today?\n",
    "\n",
    "- *Tip: When you requested moon data, you probably overwrote your variables! If so, you'll need to make a new request.*"
   ]
  },
  {
   "cell_type": "code",
   "execution_count": 57,
   "metadata": {},
   "outputs": [],
   "source": [
    "url_forecast = f\"http://api.weatherapi.com/v1/forecast.json?key={API_KEY}&q=95064&days=10&aqi=no&alerts=no\""
   ]
  },
  {
   "cell_type": "code",
   "execution_count": 58,
   "metadata": {},
   "outputs": [],
   "source": [
    "response_forecast = requests.get(url_forecast)"
   ]
  },
  {
   "cell_type": "code",
   "execution_count": 59,
   "metadata": {},
   "outputs": [],
   "source": [
    "data_forecast = response_forecast.json()"
   ]
  },
  {
   "cell_type": "code",
   "execution_count": 60,
   "metadata": {},
   "outputs": [],
   "source": [
    "temp_max = data_forecast[\"forecast\"][\"forecastday\"][0][\"day\"][\"maxtemp_f\"]"
   ]
  },
  {
   "cell_type": "code",
   "execution_count": 61,
   "metadata": {},
   "outputs": [],
   "source": [
    "temp_min = data_forecast[\"forecast\"][\"forecastday\"][0][\"day\"][\"mintemp_f\"]"
   ]
  },
  {
   "cell_type": "code",
   "execution_count": 62,
   "metadata": {},
   "outputs": [],
   "source": [
    "temp_diff = temp_max - temp_min"
   ]
  },
  {
   "cell_type": "code",
   "execution_count": 63,
   "metadata": {},
   "outputs": [
    {
     "data": {
      "text/plain": [
       "'The difference between the high and low temperatures for today was 9.0 degrees'"
      ]
     },
     "execution_count": 63,
     "metadata": {},
     "output_type": "execute_result"
    }
   ],
   "source": [
    "f'The difference between the high and low temperatures for today was {temp_diff:.1f} degrees'"
   ]
  },
  {
   "cell_type": "markdown",
   "metadata": {
    "collapsed": true
   },
   "source": [
    "## 4.5) How can you avoid the \"oh no I don't have the data any more because I made another request\" problem in the future?\n",
    "\n",
    "What variable(s) do you have to rename, and what would you rename them?"
   ]
  },
  {
   "cell_type": "code",
   "execution_count": 64,
   "metadata": {},
   "outputs": [],
   "source": [
    "# url -> url_forecast\n",
    "# response -> response_forecast\n",
    "# data -> data_forecast"
   ]
  },
  {
   "cell_type": "markdown",
   "metadata": {},
   "source": [
    "## 5) Go through the daily forecasts, printing out the next week's worth of predictions.\n",
    "\n",
    "I'd like to know the **high temperature** for each day, and whether it's **hot, warm, or cold** (based on what temperatures you think are hot, warm or cold).\n",
    "\n",
    "- *Tip: You'll need to use an `if` statement to say whether it is hot, warm or cold.*"
   ]
  },
  {
   "cell_type": "code",
   "execution_count": 65,
   "metadata": {},
   "outputs": [],
   "source": [
    "days = data_forecast[\"forecast\"][\"forecastday\"]"
   ]
  },
  {
   "cell_type": "code",
   "execution_count": 66,
   "metadata": {},
   "outputs": [
    {
     "name": "stdout",
     "output_type": "stream",
     "text": [
      "2021-06-22: The max temperature is 66.0\n",
      "That is warm\n",
      "2021-06-23: The max temperature is 68.2\n",
      "That is warm\n",
      "2021-06-24: The max temperature is 68.7\n",
      "That is warm\n"
     ]
    }
   ],
   "source": [
    "for day in days:\n",
    "    temp_high = day[\"day\"][\"maxtemp_f\"]\n",
    "    print(f'{day[\"date\"]}: The max temperature is {temp_high}')\n",
    "    if temp_high > 85:\n",
    "        print(\"That is hot\")\n",
    "    elif temp_high >= 60:\n",
    "        print(\"That is warm\")\n",
    "    elif temp_high < 65:\n",
    "        print(\"That is cold\")"
   ]
  },
  {
   "cell_type": "markdown",
   "metadata": {},
   "source": [
    "# 6) What will be the hottest day in the next week? What is the high temperature on that day?"
   ]
  },
  {
   "cell_type": "code",
   "execution_count": 67,
   "metadata": {},
   "outputs": [
    {
     "name": "stdout",
     "output_type": "stream",
     "text": [
      "The hottest day will be 2021-06-24, with a temperature of 68.7 degrees\n"
     ]
    }
   ],
   "source": [
    "hottest = 0\n",
    "\n",
    "for day in days:\n",
    "    temp_high = day[\"day\"][\"maxtemp_f\"]\n",
    "    if temp_high > hottest:\n",
    "        hottest = temp_high\n",
    "        hottest_day = day[\"date\"]\n",
    "        \n",
    "print(f'The hottest day will be {hottest_day}, with a temperature of {hottest} degrees')"
   ]
  },
  {
   "cell_type": "markdown",
   "metadata": {},
   "source": [
    "## 7) What's the weather looking like for the next 24+ hours in Miami, Florida?\n",
    "\n",
    "I'd like to know the temperature for every hour, and if it's going to have cloud cover of more than 50% say \"{temperature} and cloudy\" instead of just the temperature. \n",
    "\n",
    "- *Tip: You'll only need one day of forecast*"
   ]
  },
  {
   "cell_type": "code",
   "execution_count": 72,
   "metadata": {},
   "outputs": [],
   "source": [
    "url_miami = f\"http://api.weatherapi.com/v1/forecast.json?key={API_KEY}&q=Miami&days=1\""
   ]
  },
  {
   "cell_type": "code",
   "execution_count": 73,
   "metadata": {},
   "outputs": [],
   "source": [
    "response_miami = requests.get(url_miami)"
   ]
  },
  {
   "cell_type": "code",
   "execution_count": 74,
   "metadata": {},
   "outputs": [],
   "source": [
    "data_miami = response_miami.json()"
   ]
  },
  {
   "cell_type": "code",
   "execution_count": 75,
   "metadata": {},
   "outputs": [
    {
     "name": "stdout",
     "output_type": "stream",
     "text": [
      "At __ it will be 83.7 degrees and ?cloudy?\n",
      "At __ it will be 83.3 degrees and ?cloudy?\n",
      "At __ it will be 83.1 degrees and ?cloudy?\n",
      "At __ it will be 83.1 degrees and ?cloudy?\n",
      "At __ it will be 83.1 degrees and ?cloudy?\n",
      "At __ it will be 83.1 degrees and ?cloudy?\n",
      "At __ it will be 83.5 degrees and ?cloudy?\n",
      "At __ it will be 84.0 degrees and ?cloudy?\n",
      "At __ it will be 84.4 degrees and ?cloudy?\n",
      "At __ it will be 84.7 degrees and ?cloudy?\n",
      "At __ it will be 85.3 degrees and ?cloudy?\n",
      "At __ it will be 85.6 degrees and ?cloudy?\n",
      "At __ it will be 86.0 degrees and ?cloudy?\n",
      "At __ it will be 86.2 degrees and ?cloudy?\n",
      "At __ it will be 86.5 degrees and ?cloudy?\n",
      "At __ it will be 86.5 degrees and ?cloudy?\n",
      "At __ it will be 86.5 degrees and ?cloudy?\n",
      "At __ it will be 86.5 degrees and ?cloudy?\n",
      "At __ it will be 86.2 degrees and ?cloudy?\n",
      "At __ it will be 85.8 degrees and ?cloudy?\n",
      "At __ it will be 85.5 degrees and ?cloudy?\n",
      "At __ it will be 85.3 degrees and ?cloudy?\n",
      "At __ it will be 85.1 degrees and ?cloudy?\n",
      "At __ it will be 84.9 degrees and ?cloudy?\n"
     ]
    }
   ],
   "source": [
    "data_hours = data_miami[\"forecast\"][\"forecastday\"][0][\"hour\"]\n",
    "\n",
    "for hour in data_hours:\n",
    "    temp = hour[\"temp_f\"]\n",
    "    print(f'At __ it will be {temp} degrees and ?cloudy?')"
   ]
  },
  {
   "cell_type": "markdown",
   "metadata": {},
   "source": [
    "# 8) For the next 24-ish hours in Miami, what percent of the time is the temperature above 85 degrees?\n",
    "\n",
    "- *Tip: You might want to read up on [looping patterns](http://jonathansoma.com/lede/foundations-2017/classes/data%20structures/looping-patterns/)*"
   ]
  },
  {
   "cell_type": "code",
   "execution_count": 76,
   "metadata": {},
   "outputs": [
    {
     "name": "stdout",
     "output_type": "stream",
     "text": [
      "For the next 24 hours in Miami, it will be above 85 degrees 54.2% of the time\n"
     ]
    }
   ],
   "source": [
    "data_hours = data_miami[\"forecast\"][\"forecastday\"][0][\"hour\"]\n",
    "\n",
    "count = 0\n",
    "\n",
    "for hour in data_hours:\n",
    "    temp = hour[\"temp_f\"]\n",
    "    if temp > 85:\n",
    "        count = count + 1\n",
    "        \n",
    "time_above_85 = count / 24\n",
    "\n",
    "print(f'For the next 24 hours in Miami, it will be above 85 degrees {time_above_85:.1%} of the time')"
   ]
  },
  {
   "cell_type": "markdown",
   "metadata": {},
   "source": [
    "## 9) What was the temperature in Central Park on Christmas Day, 2020? How about 2012? 2007? How far back does the API allow you to go?\n",
    "\n",
    "- *Tip: You'll need to use latitude/longitude. You can ask Google where Central Park is, it knows*\n",
    "- *Tip: Remember when latitude/longitude might use negative numbers*"
   ]
  },
  {
   "cell_type": "code",
   "execution_count": null,
   "metadata": {},
   "outputs": [],
   "source": []
  },
  {
   "cell_type": "code",
   "execution_count": null,
   "metadata": {},
   "outputs": [],
   "source": []
  },
  {
   "cell_type": "code",
   "execution_count": null,
   "metadata": {},
   "outputs": [],
   "source": []
  }
 ],
 "metadata": {
  "kernelspec": {
   "display_name": "Python 3",
   "language": "python",
   "name": "python3"
  },
  "language_info": {
   "codemirror_mode": {
    "name": "ipython",
    "version": 3
   },
   "file_extension": ".py",
   "mimetype": "text/x-python",
   "name": "python",
   "nbconvert_exporter": "python",
   "pygments_lexer": "ipython3",
   "version": "3.9.5"
  }
 },
 "nbformat": 4,
 "nbformat_minor": 1
}
